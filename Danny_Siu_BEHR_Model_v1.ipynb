{
 "cells": [
  {
   "cell_type": "code",
   "execution_count": 2,
   "metadata": {},
   "outputs": [],
   "source": [
    "# import netCDF4\n",
    "from netCDF4 import Dataset\n",
    "import numpy as np\n",
    "import xarray as xr\n",
    "import pandas as pd\n",
    "import h5py\n",
    "import os.path\n",
    "import datetime, calendar\n",
    "import scipy.io"
   ]
  },
  {
   "cell_type": "code",
   "execution_count": 3,
   "metadata": {},
   "outputs": [],
   "source": [
    "from pathlib import Path"
   ]
  },
  {
   "cell_type": "code",
   "execution_count": 3,
   "metadata": {},
   "outputs": [],
   "source": [
    "### ------------ Opening netCDF Files from WRF-Chem ------------------\n",
    "# # dataset = Path(\"C:\\Users\\chat2\\Documents\\Spring/ 2019\\BEHR_Proj\\wrfout_d01_2013-03-01_02-00-00\")\n",
    "# dataset = Path(\"wrfout_d01_2013-03-01_02-00-00\")"
   ]
  },
  {
   "cell_type": "code",
   "execution_count": 4,
   "metadata": {},
   "outputs": [],
   "source": [
    "# Method 1\n",
    "# file = Dataset(dataset, 'r')\n",
    "# file"
   ]
  },
  {
   "cell_type": "code",
   "execution_count": 5,
   "metadata": {},
   "outputs": [],
   "source": [
    "# Method 2\n",
    "# xr.open_dataset(dataset)"
   ]
  },
  {
   "cell_type": "code",
   "execution_count": 6,
   "metadata": {},
   "outputs": [],
   "source": [
    "# ### --------------Opening HDF5 files from BEHR -----------------------\n",
    "\n",
    "# f = h5py.File('OMI_BEHR-DAILY_US_v3-0B_20050101.hdf', 'r')\n",
    "# # List all the groups in HDF5 file. Our group is \"Data\".\n",
    "# print(\"Key: \")\n",
    "# print(list(f.keys()))\n",
    "\n",
    "# # these are the different swaths\n",
    "# print()\n",
    "# a_group_key = list(f.keys())[0]\n",
    "# data = list(f[a_group_key])\n",
    "# print(\"Swaths: \")\n",
    "# print(data)  \n",
    "\n",
    "# # this is the data we want to look at\n",
    "# print()\n",
    "# print(\"Data from each swath: \")\n",
    "# for swath in data:  \n",
    "#     print(list(f[a_group_key][swath].keys()))"
   ]
  },
  {
   "cell_type": "code",
   "execution_count": 7,
   "metadata": {},
   "outputs": [],
   "source": [
    "# # Extract date from BEHR filename\n",
    "# BEHR_filepath = r'C:\\Users\\chat2\\Documents\\Spring 2019\\BEHR_Proj\\OMI_BEHR-DAILY_US_v3-0B_20050101.hdf'\n",
    "# filename = os.path.basename(BEHR_filepath)\n",
    "# filedate = filename.split('_')[4]\n",
    "# print(filedate)\n",
    "# yr, month, day = int(filedate[0:4]), int(filedate[4:6]), int(filedate[6:8])\n",
    "# print(yr, month, day)\n",
    "# print(datetime.datetime(yr, month, day))"
   ]
  },
  {
   "cell_type": "code",
   "execution_count": 8,
   "metadata": {},
   "outputs": [],
   "source": [
    "# # outdated method, this method dealt with the old BEHR hdf files -------------------\n",
    "# def BEHR_extract_date(filepath):\n",
    "#     filename = os.path.basename(filepath)\n",
    "#     filedate = filename.split('_')[4]\n",
    "#     yr, month, day = int(filedate[0:4]), int(filedate[4:6]), int(filedate[6:8])\n",
    "#     return datetime.datetime(yr, month, day)"
   ]
  },
  {
   "cell_type": "code",
   "execution_count": 9,
   "metadata": {},
   "outputs": [],
   "source": [
    "# BEHR_filepath = r'C:\\Users\\chat2\\Documents\\Spring 2019\\BEHR_Proj\\OMI_BEHR-DAILY_US_v3-0B_20050101.hdf'\n",
    "# BEHR_extract_date(BEHR_filepath)"
   ]
  },
  {
   "cell_type": "code",
   "execution_count": 10,
   "metadata": {},
   "outputs": [],
   "source": [
    "def WRF_extract_date(filepath): ## need to edit this function for WRF-Chem files\n",
    "    filename = os.path.basename(filepath)\n",
    "    split = filename.split('_')\n",
    "    filedate = split[2]\n",
    "    yr, month, day = int(filedate[0:4]), int(filedate[5:7]), int(filedate[8:10])\n",
    "    hr = int(split[3][0:2])\n",
    "    return datetime.datetime(yr, month, day, hr)"
   ]
  },
  {
   "cell_type": "code",
   "execution_count": 11,
   "metadata": {},
   "outputs": [
    {
     "data": {
      "text/plain": [
       "datetime.datetime(2013, 3, 1, 2, 0)"
      ]
     },
     "execution_count": 11,
     "metadata": {},
     "output_type": "execute_result"
    }
   ],
   "source": [
    "WRF_filepath = r'wrfout_d01_2013-03-01_02-00-00'\n",
    "WRF_extract_date(WRF_filepath)"
   ]
  },
  {
   "cell_type": "code",
   "execution_count": 12,
   "metadata": {},
   "outputs": [],
   "source": [
    "def BEHR_extract_date(filepath):\n",
    "    filename = os.path.basename(filepath)\n",
    "    filedate = filename.split('_')[4]\n",
    "    yr, month, day = int(filedate[0:4]), int(filedate[4:6]), int(filedate[6:8])\n",
    "    return datetime.datetime(yr, month, day)"
   ]
  },
  {
   "cell_type": "code",
   "execution_count": 13,
   "metadata": {},
   "outputs": [
    {
     "data": {
      "text/plain": [
       "datetime.datetime(2005, 1, 3, 0, 0)"
      ]
     },
     "execution_count": 13,
     "metadata": {},
     "output_type": "execute_result"
    }
   ],
   "source": [
    "BEHR_filepath = r'OMI_BEHR-DAILY_US_v3-0B_20050103.mat'\n",
    "BEHR_extract_date(BEHR_filepath)"
   ]
  },
  {
   "cell_type": "code",
   "execution_count": 4,
   "metadata": {},
   "outputs": [
    {
     "name": "stdout",
     "output_type": "stream",
     "text": [
      "__header__\n",
      "__version__\n",
      "__globals__\n",
      "Data\n",
      "OMI\n",
      "__function_workspace__\n"
     ]
    }
   ],
   "source": [
    "# matfile = h5py.File(r'OMI_BEHR-DAILY_US_v3-0B_20050103.mat','r') #can't open with h5py bc matlab files not saved as v7.3-mat\n",
    "mat = scipy.io.loadmat('OMI_BEHR-DAILY_US_v3-0B_20050103')\n",
    "for key,value in mat.items():\n",
    "    print(key)"
   ]
  },
  {
   "cell_type": "code",
   "execution_count": 5,
   "metadata": {},
   "outputs": [
    {
     "name": "stdout",
     "output_type": "stream",
     "text": [
      "Keys: \n",
      "['__header__', '__version__', '__globals__', 'Data', 'OMI', '__function_workspace__']\n"
     ]
    }
   ],
   "source": [
    "print(\"Keys: \")\n",
    "mat_keys = list(mat.keys())\n",
    "print(mat_keys)\n",
    "\n",
    "# # print(mat['Data'])\n",
    "# # print(\"albedo ocean flag: \")\n",
    "# # print(mat['Data']['AlbedoOceanFlag'])\n",
    "# # print(\"AmfTrop: \")\n",
    "# # print(mat['Data']['AmfTrop'])\n",
    "# # print(\"Solar Zenith Angle: \")\n",
    "# # print(mat['Data']['SolarZenithAngle'])\n",
    "\n",
    "# print('Time:')\n",
    "# print(mat['Data']['Time'])\n",
    "# print(mat['Data']['Time'].shape)\n",
    "\n",
    "# # print(list(mat['OMI']))\n",
    "# # for key,value in mat.items():\n",
    "# #     print(key)\n",
    "\n",
    "# # mat['OMI'])"
   ]
  },
  {
   "cell_type": "code",
   "execution_count": 16,
   "metadata": {},
   "outputs": [],
   "source": [
    "# # file is \"C:\\Users\\chat2\\Documents\\Spring 2019\\BEHR_Proj\\OMI_BEHR-DAILY_US_v3-0B_20050101.hdf\"\n",
    "# hdf_file = Path(\"OMI_BEHR-DAILY_US_v3-0B_20050101.hdf\")\n",
    "# omi_df = pd.read_hdf(hdf_file, 'Swath2481')\n",
    "# omi_df"
   ]
  },
  {
   "cell_type": "markdown",
   "metadata": {},
   "source": [
    "Date: Feb 15, 2019\n",
    "**Coding work today:**\n",
    "I set up presudocode to get information from OMI and WRF_Chem pixels (to be coded up). \n",
    "Then, I wrote code to assign all corresponding WRF_Chem pixels to each OMI pixel using corresponding location. \n",
    "I tested that this works, assuming that I can successfully grab arrays from OMI and WRF_Chem pixel files. \n",
    "\n",
    "Note for stored variables involved: \n",
    "WRF_Chem pixels have a CENTER variable, which stores long and latitude of the center\n",
    "OMI pixels have corner variables, which have longs and lats of each corner\n",
    "\n",
    "(My function \"interpolate_WRF_to_OMI(wrf_pixel_arr, omi_pixel_arr)\" tests that WRF_Chem pixels' center is in the box formed by OMI pixel corners; this is how the code in \"..\\BEHR_Proj\\BEHR-core-utils\\AMF_tools\\rProfile_WRF.m\" calculates it in the function \"avg_apriori()\".)\n",
    "\n",
    "Essentially, we want to create a map of all the WRF-Chem pixels' measurements onto a grid of OMI tiles. \n",
    "THis map can be created visually later, after I create the dataframes. \n",
    "\n",
    "\n",
    "**TBD:**\n",
    "Need to align all the WRF_Chem_pixels with matching DATE_TIME as well, with the corresponding OMI tiles.\n",
    "Another factor to account for: WRF-Chem pixels have fixed location, while OMI locations are constantly changing. \n",
    "\n",
    "Notes about variables: \n",
    "WRF-Chem pixels have fixed location, while OMI locations are constantly changing. \n",
    "WRF-Chem pixel date can be found in filename, calc hour using \"TIME\" variable\n",
    "\n",
    "Create a dataframe with OMI pixel as the primary index. \n",
    "First columns will hold OMI_pixel_index, OMI_pixel_time (might need to use indices for time to refer to another table with diff times, avoids many duplicates)\n",
    "Secondary columns will hold list of WRF_Chem_pixel_indices.\n",
    "\n",
    "Create a second dataframe with WRF_Chem_pixel_indices as primary index.\n",
    "Columns will hold the different measurements we want to gather for each WRF_Chem_pixel (air pressure, temp, and RH)\n",
    "\n",
    "In the future, we can create a map of all the WRF-Chem pixels' measurements essentially superimposed onto a grid of OMI tiles. \n",
    "\n",
    "**(TLDR) Needs to be done next time:**\n",
    "Align dates, (in addition to location), for WRF_Chem pixels and OMI pixels. \n",
    "Create dataframes for easy access to information relating WRF_Chem pixels and OMI tiles. "
   ]
  },
  {
   "cell_type": "code",
   "execution_count": null,
   "metadata": {},
   "outputs": [],
   "source": [
    "def open_files(filename):\n",
    "    #open files\n",
    "    dataset = Path(filename)\n",
    "    file = Dataset(dataset, 'r')\n",
    "    return file\n",
    "    \n",
    "#Quick data structure questions:\n",
    "# What's the best way to store the pixel corner data - \n",
    "# FOr java, I would store linked list of corners for each pixel\n",
    "# python equivalent is probably using direct variable attribute or an ordered array for each pixel\n",
    "\n",
    "# to quickly calc which WRF_Chem pixels belong to which OMI pixels, can create numbering scheme for pixels (gridding)\n",
    "# alternatively, could use naming scheme of pixel files -> but have time and location in LONG file name\n",
    "\n",
    "    \n",
    "# trying to match closest location and date_time among OMI and WRF_Chem pixels\n",
    "# use WRF_Chem pixels' corners that are in the OMI grid box\n",
    "def extract_info_OMI(omi_pixel):\n",
    "    # getting all info from OMI pixel into an array\n",
    "    # input: OMI pixel file as a Dataset object (sort of like a Python dictionary)\n",
    "    \n",
    "    # output: array of corners arrays of longitudes and latitudes and date: [lons, lats, date]\n",
    "    # format of lons and lats arrays: [upper_left, upper_right, lower_left, lower_right]\n",
    "    return []\n",
    "\n",
    "    \n",
    "    \n",
    "def extract_info_WRF_Chem(wrf_pixel):\n",
    "    # getting all info from WRF-Chem pixel into an array\n",
    "    # input: wrf_chem pixel file\n",
    "    # output: array of corners and date [center_lon, center_lat, date]\n",
    "#     log = dict()\n",
    "#     log['lon'] = omi_pixel[]\n",
    "#     log['lat'] = omi_pixel['CEN_LAT']\n",
    "#     log['date'] = omi_pixel[]\n",
    "#     return log\n",
    "    \n",
    "    \n",
    "    return [omi_pixel['CEN_LON'], omi_pixel['CEN_LAT'], omi_pixel[]]\n",
    "#     return []"
   ]
  },
  {
   "cell_type": "code",
   "execution_count": null,
   "metadata": {},
   "outputs": [],
   "source": [
    "def interpolate_WRF_to_OMI(wrf_pixel_arr, omi_pixel_arr): # or take A and O as input\n",
    "    # returns true if wrf_pixel belongs to this OMI pixel, OR can set OMI pixel attribute to true\n",
    "    # checks that wrf_pixel's center lies within the box formed by the OMI pixel's corners\n",
    "    \n",
    "    # lon and lat of wrf pixel's center\n",
    "    wrf_lon, wrf_lat = wrf_pixel_arr[0], wrf_pixel_arr[1]\n",
    "    \n",
    "    # longitude and latitude arrays of OMI pixels\n",
    "    omi_lons, omi_lats = omi_pixel_arr[0], omi_pixel_arr[1]\n",
    "    min_lon, max_lon = min(omi_lons), max(omi_lons)\n",
    "    min_lat, max_lat = min(omi_lats), max(omi_lats)\n",
    "    \n",
    "    return (wrf_lon > min_lon and wrf_lon < max_lon and \n",
    "            wrf_lat > min_lat and wrf_lon < max_lat)"
   ]
  },
  {
   "cell_type": "code",
   "execution_count": null,
   "metadata": {},
   "outputs": [],
   "source": [
    "# Tests for func interpolate_WRF_to_OMI(wrf_pixel_arr, omi_pixel_arr)\n",
    "A = [0, 0, 12]\n",
    "O = [[-1, 1, 1, -1], [1, 1, -1, -1], 12]\n",
    "interpolate_WRF_to_OMI(A, O) #should return True\n",
    "\n",
    "A = [0, 0, 12]\n",
    "O = [[-1, 1, 2, 0], [1, 1, -1, -1], 12]\n",
    "interpolate_WRF_to_OMI(A, O) #should return True\n",
    "\n",
    "A = [0, 0, 12]\n",
    "O = [[-1, 1, 1, -1], [1, 1, 0, 0], 12]\n",
    "interpolate_WRF_to_OMI(A, O) #should return False"
   ]
  },
  {
   "cell_type": "code",
   "execution_count": null,
   "metadata": {},
   "outputs": [],
   "source": [
    "## Pseudocode for how code might interact... (somewhat wrong now given new information about matching locations of pixels)\n",
    "# assume A is a wrf pixel, O is a OMI pixel\n",
    "    \n",
    "# OMI = []\n",
    "# for all OMI pixels:\n",
    "    # extract_info_OMI()\n",
    "    \n",
    "A_info_arr = extract_info_WRF_Chem(A)\n",
    "O_info_arr = extract_info_OMI(O) #done for all the OMI Pixels\n",
    "# for all nearby OMI pixels, o:   #determine \"nearby\" location by center of OMI Pixel\n",
    "    if interpolate_WRF_to_OMI(A, O):\n",
    "        # wrf pixel belongs to this OMI pixel's measurements\n",
    "\n",
    "    "
   ]
  },
  {
   "cell_type": "code",
   "execution_count": null,
   "metadata": {},
   "outputs": [],
   "source": []
  },
  {
   "cell_type": "code",
   "execution_count": null,
   "metadata": {},
   "outputs": [],
   "source": []
  }
 ],
 "metadata": {
  "kernelspec": {
   "display_name": "Python 3",
   "language": "python",
   "name": "python3"
  },
  "language_info": {
   "codemirror_mode": {
    "name": "ipython",
    "version": 3
   },
   "file_extension": ".py",
   "mimetype": "text/x-python",
   "name": "python",
   "nbconvert_exporter": "python",
   "pygments_lexer": "ipython3",
   "version": "3.7.0"
  }
 },
 "nbformat": 4,
 "nbformat_minor": 2
}
